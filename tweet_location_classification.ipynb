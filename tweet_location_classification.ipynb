{
 "cells": [
  {
   "cell_type": "code",
   "execution_count": 99,
   "id": "entire-attraction",
   "metadata": {},
   "outputs": [],
   "source": [
    "import pandas as pd"
   ]
  },
  {
   "cell_type": "markdown",
   "id": "transsexual-andorra",
   "metadata": {},
   "source": [
    "# Investigate the Data"
   ]
  },
  {
   "cell_type": "code",
   "execution_count": 100,
   "id": "surface-lotus",
   "metadata": {},
   "outputs": [],
   "source": [
    "new_york_tweets = pd.read_json(\"new_york.json\", lines=True)"
   ]
  },
  {
   "cell_type": "code",
   "execution_count": 101,
   "id": "ordered-blame",
   "metadata": {},
   "outputs": [
    {
     "data": {
      "text/html": [
       "<div>\n",
       "<style scoped>\n",
       "    .dataframe tbody tr th:only-of-type {\n",
       "        vertical-align: middle;\n",
       "    }\n",
       "\n",
       "    .dataframe tbody tr th {\n",
       "        vertical-align: top;\n",
       "    }\n",
       "\n",
       "    .dataframe thead th {\n",
       "        text-align: right;\n",
       "    }\n",
       "</style>\n",
       "<table border=\"1\" class=\"dataframe\">\n",
       "  <thead>\n",
       "    <tr style=\"text-align: right;\">\n",
       "      <th></th>\n",
       "      <th>created_at</th>\n",
       "      <th>id</th>\n",
       "      <th>id_str</th>\n",
       "      <th>text</th>\n",
       "      <th>display_text_range</th>\n",
       "      <th>source</th>\n",
       "      <th>truncated</th>\n",
       "      <th>in_reply_to_status_id</th>\n",
       "      <th>in_reply_to_status_id_str</th>\n",
       "      <th>in_reply_to_user_id</th>\n",
       "      <th>...</th>\n",
       "      <th>lang</th>\n",
       "      <th>timestamp_ms</th>\n",
       "      <th>extended_tweet</th>\n",
       "      <th>possibly_sensitive</th>\n",
       "      <th>quoted_status_id</th>\n",
       "      <th>quoted_status_id_str</th>\n",
       "      <th>quoted_status</th>\n",
       "      <th>quoted_status_permalink</th>\n",
       "      <th>extended_entities</th>\n",
       "      <th>withheld_in_countries</th>\n",
       "    </tr>\n",
       "  </thead>\n",
       "  <tbody>\n",
       "    <tr>\n",
       "      <th>0</th>\n",
       "      <td>2018-07-26 13:32:33+00:00</td>\n",
       "      <td>1022474755625164800</td>\n",
       "      <td>1022474755625164800</td>\n",
       "      <td>@DelgadoforNY19 Calendar marked.</td>\n",
       "      <td>[16, 32]</td>\n",
       "      <td>&lt;a href=\"http://twitter.com/download/android\" ...</td>\n",
       "      <td>False</td>\n",
       "      <td>1.022208e+18</td>\n",
       "      <td>1.022208e+18</td>\n",
       "      <td>8.290618e+17</td>\n",
       "      <td>...</td>\n",
       "      <td>en</td>\n",
       "      <td>2018-07-26 13:32:33.060</td>\n",
       "      <td>NaN</td>\n",
       "      <td>NaN</td>\n",
       "      <td>NaN</td>\n",
       "      <td>NaN</td>\n",
       "      <td>NaN</td>\n",
       "      <td>NaN</td>\n",
       "      <td>NaN</td>\n",
       "      <td>NaN</td>\n",
       "    </tr>\n",
       "    <tr>\n",
       "      <th>1</th>\n",
       "      <td>2018-07-26 13:32:34+00:00</td>\n",
       "      <td>1022474762491183104</td>\n",
       "      <td>1022474762491183104</td>\n",
       "      <td>petition to ban more than one spritz of cologne</td>\n",
       "      <td>NaN</td>\n",
       "      <td>&lt;a href=\"http://twitter.com/download/iphone\" r...</td>\n",
       "      <td>False</td>\n",
       "      <td>NaN</td>\n",
       "      <td>NaN</td>\n",
       "      <td>NaN</td>\n",
       "      <td>...</td>\n",
       "      <td>en</td>\n",
       "      <td>2018-07-26 13:32:34.697</td>\n",
       "      <td>NaN</td>\n",
       "      <td>NaN</td>\n",
       "      <td>NaN</td>\n",
       "      <td>NaN</td>\n",
       "      <td>NaN</td>\n",
       "      <td>NaN</td>\n",
       "      <td>NaN</td>\n",
       "      <td>NaN</td>\n",
       "    </tr>\n",
       "    <tr>\n",
       "      <th>2</th>\n",
       "      <td>2018-07-26 13:32:35+00:00</td>\n",
       "      <td>1022474765750226945</td>\n",
       "      <td>1022474765750226944</td>\n",
       "      <td>People really be making up beef with you in th...</td>\n",
       "      <td>NaN</td>\n",
       "      <td>&lt;a href=\"http://twitter.com/download/iphone\" r...</td>\n",
       "      <td>False</td>\n",
       "      <td>NaN</td>\n",
       "      <td>NaN</td>\n",
       "      <td>NaN</td>\n",
       "      <td>...</td>\n",
       "      <td>en</td>\n",
       "      <td>2018-07-26 13:32:35.474</td>\n",
       "      <td>NaN</td>\n",
       "      <td>NaN</td>\n",
       "      <td>NaN</td>\n",
       "      <td>NaN</td>\n",
       "      <td>NaN</td>\n",
       "      <td>NaN</td>\n",
       "      <td>NaN</td>\n",
       "      <td>NaN</td>\n",
       "    </tr>\n",
       "    <tr>\n",
       "      <th>3</th>\n",
       "      <td>2018-07-26 13:32:36+00:00</td>\n",
       "      <td>1022474768736546816</td>\n",
       "      <td>1022474768736546816</td>\n",
       "      <td>30 years old.. wow what a journey... I moved t...</td>\n",
       "      <td>NaN</td>\n",
       "      <td>&lt;a href=\"http://instagram.com\" rel=\"nofollow\"&gt;...</td>\n",
       "      <td>True</td>\n",
       "      <td>NaN</td>\n",
       "      <td>NaN</td>\n",
       "      <td>NaN</td>\n",
       "      <td>...</td>\n",
       "      <td>en</td>\n",
       "      <td>2018-07-26 13:32:36.186</td>\n",
       "      <td>{'full_text': '30 years old.. wow what a journ...</td>\n",
       "      <td>0.0</td>\n",
       "      <td>NaN</td>\n",
       "      <td>NaN</td>\n",
       "      <td>NaN</td>\n",
       "      <td>NaN</td>\n",
       "      <td>NaN</td>\n",
       "      <td>NaN</td>\n",
       "    </tr>\n",
       "    <tr>\n",
       "      <th>4</th>\n",
       "      <td>2018-07-26 13:32:36+00:00</td>\n",
       "      <td>1022474769260838913</td>\n",
       "      <td>1022474769260838912</td>\n",
       "      <td>At first glance it looked like asparagus with ...</td>\n",
       "      <td>NaN</td>\n",
       "      <td>&lt;a href=\"http://twitter.com/download/iphone\" r...</td>\n",
       "      <td>True</td>\n",
       "      <td>NaN</td>\n",
       "      <td>NaN</td>\n",
       "      <td>NaN</td>\n",
       "      <td>...</td>\n",
       "      <td>en</td>\n",
       "      <td>2018-07-26 13:32:36.311</td>\n",
       "      <td>{'full_text': 'At first glance it looked like ...</td>\n",
       "      <td>NaN</td>\n",
       "      <td>NaN</td>\n",
       "      <td>NaN</td>\n",
       "      <td>NaN</td>\n",
       "      <td>NaN</td>\n",
       "      <td>NaN</td>\n",
       "      <td>NaN</td>\n",
       "    </tr>\n",
       "  </tbody>\n",
       "</table>\n",
       "<p>5 rows × 36 columns</p>\n",
       "</div>"
      ],
      "text/plain": [
       "                 created_at                   id               id_str  \\\n",
       "0 2018-07-26 13:32:33+00:00  1022474755625164800  1022474755625164800   \n",
       "1 2018-07-26 13:32:34+00:00  1022474762491183104  1022474762491183104   \n",
       "2 2018-07-26 13:32:35+00:00  1022474765750226945  1022474765750226944   \n",
       "3 2018-07-26 13:32:36+00:00  1022474768736546816  1022474768736546816   \n",
       "4 2018-07-26 13:32:36+00:00  1022474769260838913  1022474769260838912   \n",
       "\n",
       "                                                text display_text_range  \\\n",
       "0                   @DelgadoforNY19 Calendar marked.           [16, 32]   \n",
       "1    petition to ban more than one spritz of cologne                NaN   \n",
       "2  People really be making up beef with you in th...                NaN   \n",
       "3  30 years old.. wow what a journey... I moved t...                NaN   \n",
       "4  At first glance it looked like asparagus with ...                NaN   \n",
       "\n",
       "                                              source  truncated  \\\n",
       "0  <a href=\"http://twitter.com/download/android\" ...      False   \n",
       "1  <a href=\"http://twitter.com/download/iphone\" r...      False   \n",
       "2  <a href=\"http://twitter.com/download/iphone\" r...      False   \n",
       "3  <a href=\"http://instagram.com\" rel=\"nofollow\">...       True   \n",
       "4  <a href=\"http://twitter.com/download/iphone\" r...       True   \n",
       "\n",
       "   in_reply_to_status_id  in_reply_to_status_id_str  in_reply_to_user_id  ...  \\\n",
       "0           1.022208e+18               1.022208e+18         8.290618e+17  ...   \n",
       "1                    NaN                        NaN                  NaN  ...   \n",
       "2                    NaN                        NaN                  NaN  ...   \n",
       "3                    NaN                        NaN                  NaN  ...   \n",
       "4                    NaN                        NaN                  NaN  ...   \n",
       "\n",
       "   lang            timestamp_ms  \\\n",
       "0    en 2018-07-26 13:32:33.060   \n",
       "1    en 2018-07-26 13:32:34.697   \n",
       "2    en 2018-07-26 13:32:35.474   \n",
       "3    en 2018-07-26 13:32:36.186   \n",
       "4    en 2018-07-26 13:32:36.311   \n",
       "\n",
       "                                      extended_tweet possibly_sensitive  \\\n",
       "0                                                NaN                NaN   \n",
       "1                                                NaN                NaN   \n",
       "2                                                NaN                NaN   \n",
       "3  {'full_text': '30 years old.. wow what a journ...                0.0   \n",
       "4  {'full_text': 'At first glance it looked like ...                NaN   \n",
       "\n",
       "  quoted_status_id quoted_status_id_str  quoted_status  \\\n",
       "0              NaN                  NaN            NaN   \n",
       "1              NaN                  NaN            NaN   \n",
       "2              NaN                  NaN            NaN   \n",
       "3              NaN                  NaN            NaN   \n",
       "4              NaN                  NaN            NaN   \n",
       "\n",
       "   quoted_status_permalink  extended_entities  withheld_in_countries  \n",
       "0                      NaN                NaN                    NaN  \n",
       "1                      NaN                NaN                    NaN  \n",
       "2                      NaN                NaN                    NaN  \n",
       "3                      NaN                NaN                    NaN  \n",
       "4                      NaN                NaN                    NaN  \n",
       "\n",
       "[5 rows x 36 columns]"
      ]
     },
     "execution_count": 101,
     "metadata": {},
     "output_type": "execute_result"
    }
   ],
   "source": [
    "new_york_tweets.head()"
   ]
  },
  {
   "cell_type": "code",
   "execution_count": 102,
   "id": "indonesian-champion",
   "metadata": {},
   "outputs": [
    {
     "data": {
      "text/plain": [
       "Index(['created_at', 'id', 'id_str', 'text', 'display_text_range', 'source',\n",
       "       'truncated', 'in_reply_to_status_id', 'in_reply_to_status_id_str',\n",
       "       'in_reply_to_user_id', 'in_reply_to_user_id_str',\n",
       "       'in_reply_to_screen_name', 'user', 'geo', 'coordinates', 'place',\n",
       "       'contributors', 'is_quote_status', 'quote_count', 'reply_count',\n",
       "       'retweet_count', 'favorite_count', 'entities', 'favorited', 'retweeted',\n",
       "       'filter_level', 'lang', 'timestamp_ms', 'extended_tweet',\n",
       "       'possibly_sensitive', 'quoted_status_id', 'quoted_status_id_str',\n",
       "       'quoted_status', 'quoted_status_permalink', 'extended_entities',\n",
       "       'withheld_in_countries'],\n",
       "      dtype='object')"
      ]
     },
     "execution_count": 102,
     "metadata": {},
     "output_type": "execute_result"
    }
   ],
   "source": [
    "new_york_tweets.columns"
   ]
  },
  {
   "cell_type": "code",
   "execution_count": 103,
   "id": "finite-veteran",
   "metadata": {},
   "outputs": [
    {
     "data": {
      "text/plain": [
       "created_at                                           2018-07-26 13:32:33+00:00\n",
       "id                                                         1022474755625164800\n",
       "id_str                                                     1022474755625164800\n",
       "text                                          @DelgadoforNY19 Calendar marked.\n",
       "display_text_range                                                    [16, 32]\n",
       "source                       <a href=\"http://twitter.com/download/android\" ...\n",
       "truncated                                                                False\n",
       "in_reply_to_status_id                                              1.02221e+18\n",
       "in_reply_to_status_id_str                                          1.02221e+18\n",
       "in_reply_to_user_id                                                8.29062e+17\n",
       "in_reply_to_user_id_str                                            8.29062e+17\n",
       "in_reply_to_screen_name                                         DelgadoforNY19\n",
       "user                         {'id': 316616881, 'id_str': '316616881', 'name...\n",
       "geo                                                                       None\n",
       "coordinates                                                               None\n",
       "place                        {'id': '01a9a39529b27f36', 'url': 'https://api...\n",
       "contributors                                                               NaN\n",
       "is_quote_status                                                          False\n",
       "quote_count                                                                  0\n",
       "reply_count                                                                  0\n",
       "retweet_count                                                                0\n",
       "favorite_count                                                               0\n",
       "entities                     {'hashtags': [], 'urls': [], 'user_mentions': ...\n",
       "favorited                                                                False\n",
       "retweeted                                                                False\n",
       "filter_level                                                               low\n",
       "lang                                                                        en\n",
       "timestamp_ms                                        2018-07-26 13:32:33.060000\n",
       "extended_tweet                                                             NaN\n",
       "possibly_sensitive                                                         NaN\n",
       "quoted_status_id                                                           NaN\n",
       "quoted_status_id_str                                                       NaN\n",
       "quoted_status                                                              NaN\n",
       "quoted_status_permalink                                                    NaN\n",
       "extended_entities                                                          NaN\n",
       "withheld_in_countries                                                      NaN\n",
       "Name: 0, dtype: object"
      ]
     },
     "execution_count": 103,
     "metadata": {},
     "output_type": "execute_result"
    }
   ],
   "source": [
    "new_york_tweets.loc[0]"
   ]
  },
  {
   "cell_type": "code",
   "execution_count": 104,
   "id": "critical-imagination",
   "metadata": {},
   "outputs": [
    {
     "data": {
      "text/plain": [
       "'@DelgadoforNY19 Calendar marked.'"
      ]
     },
     "execution_count": 104,
     "metadata": {},
     "output_type": "execute_result"
    }
   ],
   "source": [
    "new_york_tweets.loc[0]['text']"
   ]
  },
  {
   "cell_type": "code",
   "execution_count": 105,
   "id": "operational-quantum",
   "metadata": {},
   "outputs": [],
   "source": [
    "paris_tweets = pd.read_json(\"paris.json\", lines=True)\n",
    "london_tweets = pd.read_json(\"london.json\", lines=True)"
   ]
  },
  {
   "cell_type": "code",
   "execution_count": 106,
   "id": "funny-robin",
   "metadata": {},
   "outputs": [
    {
     "data": {
      "text/html": [
       "<div>\n",
       "<style scoped>\n",
       "    .dataframe tbody tr th:only-of-type {\n",
       "        vertical-align: middle;\n",
       "    }\n",
       "\n",
       "    .dataframe tbody tr th {\n",
       "        vertical-align: top;\n",
       "    }\n",
       "\n",
       "    .dataframe thead th {\n",
       "        text-align: right;\n",
       "    }\n",
       "</style>\n",
       "<table border=\"1\" class=\"dataframe\">\n",
       "  <thead>\n",
       "    <tr style=\"text-align: right;\">\n",
       "      <th></th>\n",
       "      <th>created_at</th>\n",
       "      <th>id</th>\n",
       "      <th>id_str</th>\n",
       "      <th>text</th>\n",
       "      <th>source</th>\n",
       "      <th>truncated</th>\n",
       "      <th>in_reply_to_status_id</th>\n",
       "      <th>in_reply_to_status_id_str</th>\n",
       "      <th>in_reply_to_user_id</th>\n",
       "      <th>in_reply_to_user_id_str</th>\n",
       "      <th>...</th>\n",
       "      <th>lang</th>\n",
       "      <th>timestamp_ms</th>\n",
       "      <th>display_text_range</th>\n",
       "      <th>extended_entities</th>\n",
       "      <th>possibly_sensitive</th>\n",
       "      <th>quoted_status_id</th>\n",
       "      <th>quoted_status_id_str</th>\n",
       "      <th>quoted_status</th>\n",
       "      <th>quoted_status_permalink</th>\n",
       "      <th>extended_tweet</th>\n",
       "    </tr>\n",
       "  </thead>\n",
       "  <tbody>\n",
       "    <tr>\n",
       "      <th>0</th>\n",
       "      <td>2018-07-27 17:40:45+00:00</td>\n",
       "      <td>1022899608396156928</td>\n",
       "      <td>1022899608396156928</td>\n",
       "      <td>Bulletin météo parisien : des grêlons énormes ...</td>\n",
       "      <td>&lt;a href=\"http://twitter.com/download/android\" ...</td>\n",
       "      <td>False</td>\n",
       "      <td>NaN</td>\n",
       "      <td>NaN</td>\n",
       "      <td>NaN</td>\n",
       "      <td>NaN</td>\n",
       "      <td>...</td>\n",
       "      <td>fr</td>\n",
       "      <td>2018-07-27 17:40:45.854</td>\n",
       "      <td>NaN</td>\n",
       "      <td>NaN</td>\n",
       "      <td>NaN</td>\n",
       "      <td>NaN</td>\n",
       "      <td>NaN</td>\n",
       "      <td>NaN</td>\n",
       "      <td>NaN</td>\n",
       "      <td>NaN</td>\n",
       "    </tr>\n",
       "    <tr>\n",
       "      <th>1</th>\n",
       "      <td>2018-07-27 17:40:47+00:00</td>\n",
       "      <td>1022899613550956544</td>\n",
       "      <td>1022899613550956544</td>\n",
       "      <td>Prêt pour le match #USORCL https://t.co/V5jw0S...</td>\n",
       "      <td>&lt;a href=\"http://twitter.com/download/iphone\" r...</td>\n",
       "      <td>False</td>\n",
       "      <td>NaN</td>\n",
       "      <td>NaN</td>\n",
       "      <td>NaN</td>\n",
       "      <td>NaN</td>\n",
       "      <td>...</td>\n",
       "      <td>fr</td>\n",
       "      <td>2018-07-27 17:40:47.083</td>\n",
       "      <td>[0, 26]</td>\n",
       "      <td>{'media': [{'id': 1022899599336525825, 'id_str...</td>\n",
       "      <td>0.0</td>\n",
       "      <td>NaN</td>\n",
       "      <td>NaN</td>\n",
       "      <td>NaN</td>\n",
       "      <td>NaN</td>\n",
       "      <td>NaN</td>\n",
       "    </tr>\n",
       "    <tr>\n",
       "      <th>2</th>\n",
       "      <td>2018-07-27 17:40:50+00:00</td>\n",
       "      <td>1022899626041651200</td>\n",
       "      <td>1022899626041651200</td>\n",
       "      <td>MAIS QOIDBDNND'SLS'SLSLLSLS''D DBDODNDNODJDBKD...</td>\n",
       "      <td>&lt;a href=\"http://twitter.com/download/android\" ...</td>\n",
       "      <td>False</td>\n",
       "      <td>NaN</td>\n",
       "      <td>NaN</td>\n",
       "      <td>NaN</td>\n",
       "      <td>NaN</td>\n",
       "      <td>...</td>\n",
       "      <td>in</td>\n",
       "      <td>2018-07-27 17:40:50.061</td>\n",
       "      <td>[0, 111]</td>\n",
       "      <td>{'media': [{'id': 1022899571884744706, 'id_str...</td>\n",
       "      <td>0.0</td>\n",
       "      <td>NaN</td>\n",
       "      <td>NaN</td>\n",
       "      <td>NaN</td>\n",
       "      <td>NaN</td>\n",
       "      <td>NaN</td>\n",
       "    </tr>\n",
       "    <tr>\n",
       "      <th>3</th>\n",
       "      <td>2018-07-27 17:40:57+00:00</td>\n",
       "      <td>1022899655347249152</td>\n",
       "      <td>1022899655347249152</td>\n",
       "      <td>@ToursFC Où peut on le championnat de National...</td>\n",
       "      <td>&lt;a href=\"http://twitter.com/download/android\" ...</td>\n",
       "      <td>False</td>\n",
       "      <td>1.022888e+18</td>\n",
       "      <td>1.022888e+18</td>\n",
       "      <td>978599220.0</td>\n",
       "      <td>978599220.0</td>\n",
       "      <td>...</td>\n",
       "      <td>fr</td>\n",
       "      <td>2018-07-27 17:40:57.048</td>\n",
       "      <td>[9, 50]</td>\n",
       "      <td>NaN</td>\n",
       "      <td>NaN</td>\n",
       "      <td>NaN</td>\n",
       "      <td>NaN</td>\n",
       "      <td>NaN</td>\n",
       "      <td>NaN</td>\n",
       "      <td>NaN</td>\n",
       "    </tr>\n",
       "    <tr>\n",
       "      <th>4</th>\n",
       "      <td>2018-07-27 17:40:57+00:00</td>\n",
       "      <td>1022899656685223936</td>\n",
       "      <td>1022899656685223936</td>\n",
       "      <td>Les tismey ils sont bas qu’a tromper leur go e...</td>\n",
       "      <td>&lt;a href=\"http://twitter.com/download/iphone\" r...</td>\n",
       "      <td>False</td>\n",
       "      <td>NaN</td>\n",
       "      <td>NaN</td>\n",
       "      <td>NaN</td>\n",
       "      <td>NaN</td>\n",
       "      <td>...</td>\n",
       "      <td>fr</td>\n",
       "      <td>2018-07-27 17:40:57.367</td>\n",
       "      <td>NaN</td>\n",
       "      <td>NaN</td>\n",
       "      <td>NaN</td>\n",
       "      <td>NaN</td>\n",
       "      <td>NaN</td>\n",
       "      <td>NaN</td>\n",
       "      <td>NaN</td>\n",
       "      <td>NaN</td>\n",
       "    </tr>\n",
       "  </tbody>\n",
       "</table>\n",
       "<p>5 rows × 35 columns</p>\n",
       "</div>"
      ],
      "text/plain": [
       "                 created_at                   id               id_str  \\\n",
       "0 2018-07-27 17:40:45+00:00  1022899608396156928  1022899608396156928   \n",
       "1 2018-07-27 17:40:47+00:00  1022899613550956544  1022899613550956544   \n",
       "2 2018-07-27 17:40:50+00:00  1022899626041651200  1022899626041651200   \n",
       "3 2018-07-27 17:40:57+00:00  1022899655347249152  1022899655347249152   \n",
       "4 2018-07-27 17:40:57+00:00  1022899656685223936  1022899656685223936   \n",
       "\n",
       "                                                text  \\\n",
       "0  Bulletin météo parisien : des grêlons énormes ...   \n",
       "1  Prêt pour le match #USORCL https://t.co/V5jw0S...   \n",
       "2  MAIS QOIDBDNND'SLS'SLSLLSLS''D DBDODNDNODJDBKD...   \n",
       "3  @ToursFC Où peut on le championnat de National...   \n",
       "4  Les tismey ils sont bas qu’a tromper leur go e...   \n",
       "\n",
       "                                              source  truncated  \\\n",
       "0  <a href=\"http://twitter.com/download/android\" ...      False   \n",
       "1  <a href=\"http://twitter.com/download/iphone\" r...      False   \n",
       "2  <a href=\"http://twitter.com/download/android\" ...      False   \n",
       "3  <a href=\"http://twitter.com/download/android\" ...      False   \n",
       "4  <a href=\"http://twitter.com/download/iphone\" r...      False   \n",
       "\n",
       "   in_reply_to_status_id  in_reply_to_status_id_str  in_reply_to_user_id  \\\n",
       "0                    NaN                        NaN                  NaN   \n",
       "1                    NaN                        NaN                  NaN   \n",
       "2                    NaN                        NaN                  NaN   \n",
       "3           1.022888e+18               1.022888e+18          978599220.0   \n",
       "4                    NaN                        NaN                  NaN   \n",
       "\n",
       "   in_reply_to_user_id_str  ... lang            timestamp_ms  \\\n",
       "0                      NaN  ...   fr 2018-07-27 17:40:45.854   \n",
       "1                      NaN  ...   fr 2018-07-27 17:40:47.083   \n",
       "2                      NaN  ...   in 2018-07-27 17:40:50.061   \n",
       "3              978599220.0  ...   fr 2018-07-27 17:40:57.048   \n",
       "4                      NaN  ...   fr 2018-07-27 17:40:57.367   \n",
       "\n",
       "  display_text_range                                  extended_entities  \\\n",
       "0                NaN                                                NaN   \n",
       "1            [0, 26]  {'media': [{'id': 1022899599336525825, 'id_str...   \n",
       "2           [0, 111]  {'media': [{'id': 1022899571884744706, 'id_str...   \n",
       "3            [9, 50]                                                NaN   \n",
       "4                NaN                                                NaN   \n",
       "\n",
       "  possibly_sensitive  quoted_status_id  quoted_status_id_str  quoted_status  \\\n",
       "0                NaN               NaN                   NaN            NaN   \n",
       "1                0.0               NaN                   NaN            NaN   \n",
       "2                0.0               NaN                   NaN            NaN   \n",
       "3                NaN               NaN                   NaN            NaN   \n",
       "4                NaN               NaN                   NaN            NaN   \n",
       "\n",
       "   quoted_status_permalink  extended_tweet  \n",
       "0                      NaN             NaN  \n",
       "1                      NaN             NaN  \n",
       "2                      NaN             NaN  \n",
       "3                      NaN             NaN  \n",
       "4                      NaN             NaN  \n",
       "\n",
       "[5 rows x 35 columns]"
      ]
     },
     "execution_count": 106,
     "metadata": {},
     "output_type": "execute_result"
    }
   ],
   "source": [
    "paris_tweets.head()"
   ]
  },
  {
   "cell_type": "code",
   "execution_count": 107,
   "id": "danish-animation",
   "metadata": {},
   "outputs": [
    {
     "data": {
      "text/html": [
       "<div>\n",
       "<style scoped>\n",
       "    .dataframe tbody tr th:only-of-type {\n",
       "        vertical-align: middle;\n",
       "    }\n",
       "\n",
       "    .dataframe tbody tr th {\n",
       "        vertical-align: top;\n",
       "    }\n",
       "\n",
       "    .dataframe thead th {\n",
       "        text-align: right;\n",
       "    }\n",
       "</style>\n",
       "<table border=\"1\" class=\"dataframe\">\n",
       "  <thead>\n",
       "    <tr style=\"text-align: right;\">\n",
       "      <th></th>\n",
       "      <th>created_at</th>\n",
       "      <th>id</th>\n",
       "      <th>id_str</th>\n",
       "      <th>text</th>\n",
       "      <th>display_text_range</th>\n",
       "      <th>source</th>\n",
       "      <th>truncated</th>\n",
       "      <th>in_reply_to_status_id</th>\n",
       "      <th>in_reply_to_status_id_str</th>\n",
       "      <th>in_reply_to_user_id</th>\n",
       "      <th>...</th>\n",
       "      <th>retweeted</th>\n",
       "      <th>filter_level</th>\n",
       "      <th>lang</th>\n",
       "      <th>timestamp_ms</th>\n",
       "      <th>possibly_sensitive</th>\n",
       "      <th>quoted_status_id</th>\n",
       "      <th>quoted_status_id_str</th>\n",
       "      <th>quoted_status</th>\n",
       "      <th>quoted_status_permalink</th>\n",
       "      <th>extended_entities</th>\n",
       "    </tr>\n",
       "  </thead>\n",
       "  <tbody>\n",
       "    <tr>\n",
       "      <th>0</th>\n",
       "      <td>2018-07-26 13:39:30+00:00</td>\n",
       "      <td>1022476504855400449</td>\n",
       "      <td>1022476504855400448</td>\n",
       "      <td>@bbclaurak i agree Laura but the Party you see...</td>\n",
       "      <td>[11, 140]</td>\n",
       "      <td>&lt;a href=\"http://twitter.com/download/iphone\" r...</td>\n",
       "      <td>True</td>\n",
       "      <td>1.022447e+18</td>\n",
       "      <td>1.022447e+18</td>\n",
       "      <td>6.118357e+07</td>\n",
       "      <td>...</td>\n",
       "      <td>False</td>\n",
       "      <td>low</td>\n",
       "      <td>en</td>\n",
       "      <td>2018-07-26 13:39:30.109</td>\n",
       "      <td>NaN</td>\n",
       "      <td>NaN</td>\n",
       "      <td>NaN</td>\n",
       "      <td>NaN</td>\n",
       "      <td>NaN</td>\n",
       "      <td>NaN</td>\n",
       "    </tr>\n",
       "    <tr>\n",
       "      <th>1</th>\n",
       "      <td>2018-07-26 13:39:30+00:00</td>\n",
       "      <td>1022476506075942912</td>\n",
       "      <td>1022476506075942912</td>\n",
       "      <td>@masturbacaolove Why?</td>\n",
       "      <td>[17, 21]</td>\n",
       "      <td>&lt;a href=\"http://twitter.com/download/iphone\" r...</td>\n",
       "      <td>False</td>\n",
       "      <td>1.021997e+18</td>\n",
       "      <td>1.021997e+18</td>\n",
       "      <td>9.003777e+17</td>\n",
       "      <td>...</td>\n",
       "      <td>False</td>\n",
       "      <td>low</td>\n",
       "      <td>und</td>\n",
       "      <td>2018-07-26 13:39:30.400</td>\n",
       "      <td>NaN</td>\n",
       "      <td>NaN</td>\n",
       "      <td>NaN</td>\n",
       "      <td>NaN</td>\n",
       "      <td>NaN</td>\n",
       "      <td>NaN</td>\n",
       "    </tr>\n",
       "    <tr>\n",
       "      <th>2</th>\n",
       "      <td>2018-07-26 13:39:31+00:00</td>\n",
       "      <td>1022476510089949190</td>\n",
       "      <td>1022476510089949184</td>\n",
       "      <td>@JackRobinson80 @pgroresearch Yeah not great b...</td>\n",
       "      <td>[30, 65]</td>\n",
       "      <td>&lt;a href=\"http://twitter.com/download/iphone\" r...</td>\n",
       "      <td>False</td>\n",
       "      <td>1.022444e+18</td>\n",
       "      <td>1.022444e+18</td>\n",
       "      <td>7.355633e+08</td>\n",
       "      <td>...</td>\n",
       "      <td>False</td>\n",
       "      <td>low</td>\n",
       "      <td>en</td>\n",
       "      <td>2018-07-26 13:39:31.357</td>\n",
       "      <td>NaN</td>\n",
       "      <td>NaN</td>\n",
       "      <td>NaN</td>\n",
       "      <td>NaN</td>\n",
       "      <td>NaN</td>\n",
       "      <td>NaN</td>\n",
       "    </tr>\n",
       "    <tr>\n",
       "      <th>3</th>\n",
       "      <td>2018-07-26 13:39:33+00:00</td>\n",
       "      <td>1022476519845883905</td>\n",
       "      <td>1022476519845883904</td>\n",
       "      <td>Penalty shit out Arsenal</td>\n",
       "      <td>NaN</td>\n",
       "      <td>&lt;a href=\"http://twitter.com/download/iphone\" r...</td>\n",
       "      <td>False</td>\n",
       "      <td>NaN</td>\n",
       "      <td>NaN</td>\n",
       "      <td>NaN</td>\n",
       "      <td>...</td>\n",
       "      <td>False</td>\n",
       "      <td>low</td>\n",
       "      <td>en</td>\n",
       "      <td>2018-07-26 13:39:33.683</td>\n",
       "      <td>NaN</td>\n",
       "      <td>NaN</td>\n",
       "      <td>NaN</td>\n",
       "      <td>NaN</td>\n",
       "      <td>NaN</td>\n",
       "      <td>NaN</td>\n",
       "    </tr>\n",
       "    <tr>\n",
       "      <th>4</th>\n",
       "      <td>2018-07-26 13:39:36+00:00</td>\n",
       "      <td>1022476532684648448</td>\n",
       "      <td>1022476532684648448</td>\n",
       "      <td>Obviously need some pen practice 🙈</td>\n",
       "      <td>NaN</td>\n",
       "      <td>&lt;a href=\"http://twitter.com/download/iphone\" r...</td>\n",
       "      <td>False</td>\n",
       "      <td>NaN</td>\n",
       "      <td>NaN</td>\n",
       "      <td>NaN</td>\n",
       "      <td>...</td>\n",
       "      <td>False</td>\n",
       "      <td>low</td>\n",
       "      <td>en</td>\n",
       "      <td>2018-07-26 13:39:36.744</td>\n",
       "      <td>NaN</td>\n",
       "      <td>NaN</td>\n",
       "      <td>NaN</td>\n",
       "      <td>NaN</td>\n",
       "      <td>NaN</td>\n",
       "      <td>NaN</td>\n",
       "    </tr>\n",
       "  </tbody>\n",
       "</table>\n",
       "<p>5 rows × 35 columns</p>\n",
       "</div>"
      ],
      "text/plain": [
       "                 created_at                   id               id_str  \\\n",
       "0 2018-07-26 13:39:30+00:00  1022476504855400449  1022476504855400448   \n",
       "1 2018-07-26 13:39:30+00:00  1022476506075942912  1022476506075942912   \n",
       "2 2018-07-26 13:39:31+00:00  1022476510089949190  1022476510089949184   \n",
       "3 2018-07-26 13:39:33+00:00  1022476519845883905  1022476519845883904   \n",
       "4 2018-07-26 13:39:36+00:00  1022476532684648448  1022476532684648448   \n",
       "\n",
       "                                                text display_text_range  \\\n",
       "0  @bbclaurak i agree Laura but the Party you see...          [11, 140]   \n",
       "1                              @masturbacaolove Why?           [17, 21]   \n",
       "2  @JackRobinson80 @pgroresearch Yeah not great b...           [30, 65]   \n",
       "3                           Penalty shit out Arsenal                NaN   \n",
       "4                 Obviously need some pen practice 🙈                NaN   \n",
       "\n",
       "                                              source  truncated  \\\n",
       "0  <a href=\"http://twitter.com/download/iphone\" r...       True   \n",
       "1  <a href=\"http://twitter.com/download/iphone\" r...      False   \n",
       "2  <a href=\"http://twitter.com/download/iphone\" r...      False   \n",
       "3  <a href=\"http://twitter.com/download/iphone\" r...      False   \n",
       "4  <a href=\"http://twitter.com/download/iphone\" r...      False   \n",
       "\n",
       "   in_reply_to_status_id  in_reply_to_status_id_str  in_reply_to_user_id  ...  \\\n",
       "0           1.022447e+18               1.022447e+18         6.118357e+07  ...   \n",
       "1           1.021997e+18               1.021997e+18         9.003777e+17  ...   \n",
       "2           1.022444e+18               1.022444e+18         7.355633e+08  ...   \n",
       "3                    NaN                        NaN                  NaN  ...   \n",
       "4                    NaN                        NaN                  NaN  ...   \n",
       "\n",
       "   retweeted filter_level lang            timestamp_ms possibly_sensitive  \\\n",
       "0      False          low   en 2018-07-26 13:39:30.109                NaN   \n",
       "1      False          low  und 2018-07-26 13:39:30.400                NaN   \n",
       "2      False          low   en 2018-07-26 13:39:31.357                NaN   \n",
       "3      False          low   en 2018-07-26 13:39:33.683                NaN   \n",
       "4      False          low   en 2018-07-26 13:39:36.744                NaN   \n",
       "\n",
       "  quoted_status_id  quoted_status_id_str  quoted_status  \\\n",
       "0              NaN                   NaN            NaN   \n",
       "1              NaN                   NaN            NaN   \n",
       "2              NaN                   NaN            NaN   \n",
       "3              NaN                   NaN            NaN   \n",
       "4              NaN                   NaN            NaN   \n",
       "\n",
       "  quoted_status_permalink  extended_entities  \n",
       "0                     NaN                NaN  \n",
       "1                     NaN                NaN  \n",
       "2                     NaN                NaN  \n",
       "3                     NaN                NaN  \n",
       "4                     NaN                NaN  \n",
       "\n",
       "[5 rows x 35 columns]"
      ]
     },
     "execution_count": 107,
     "metadata": {},
     "output_type": "execute_result"
    }
   ],
   "source": [
    "london_tweets.head()"
   ]
  },
  {
   "cell_type": "raw",
   "id": "separate-bangkok",
   "metadata": {},
   "source": [
    "Then combine all three into a variable named all_tweets by using the + operator. For example, all_tweets = new_york_text + parsi_text + london_text  \n",
    "\n",
    "Let's also make the labels associated with those tweets. 0 represents a New York tweet, 1 represents a Paris tweet, and 2 represents a LOndon tweet. Finish the definition of labels."
   ]
  },
  {
   "cell_type": "code",
   "execution_count": 135,
   "id": "satisfied-florida",
   "metadata": {},
   "outputs": [],
   "source": [
    "all_tweets = new_york_tweets['text'].tolist() + paris_tweets['text'].tolist()  + london_tweets['text'].tolist() "
   ]
  },
  {
   "cell_type": "code",
   "execution_count": 136,
   "id": "graduate-discount",
   "metadata": {},
   "outputs": [
    {
     "data": {
      "text/plain": [
       "12574"
      ]
     },
     "execution_count": 136,
     "metadata": {},
     "output_type": "execute_result"
    }
   ],
   "source": [
    "len(all_tweets)"
   ]
  },
  {
   "cell_type": "code",
   "execution_count": 110,
   "id": "narrow-graphics",
   "metadata": {},
   "outputs": [],
   "source": [
    "labels = [0] * len(new_york_tweets) + [1] * len(paris_tweets) + [2] * len(london_tweets)"
   ]
  },
  {
   "cell_type": "code",
   "execution_count": 111,
   "id": "wanted-intranet",
   "metadata": {},
   "outputs": [
    {
     "data": {
      "text/plain": [
       "12574"
      ]
     },
     "execution_count": 111,
     "metadata": {},
     "output_type": "execute_result"
    }
   ],
   "source": [
    "len(labels)"
   ]
  },
  {
   "cell_type": "markdown",
   "id": "cubic-grave",
   "metadata": {},
   "source": [
    "# Making a Training and Validation Set"
   ]
  },
  {
   "cell_type": "code",
   "execution_count": 112,
   "id": "pretty-application",
   "metadata": {},
   "outputs": [],
   "source": [
    "from sklearn.utils import shuffle\n",
    "all_tweets, labels = shuffle(all_tweets, labels, random_state=0)"
   ]
  },
  {
   "cell_type": "code",
   "execution_count": 113,
   "id": "endangered-masters",
   "metadata": {},
   "outputs": [],
   "source": [
    "def split_vals(a,n):\n",
    "    return a[:n].copy(), a[n:].copy()\n",
    "\n",
    "n_valid = 2000 \n",
    "n_trn = len(all_tweets)-n_valid\n",
    "raw_train, raw_valid = split_vals(all_tweets, n_trn)\n",
    "X_train, X_valid = split_vals(all_tweets, n_trn)\n",
    "y_train, y_valid = split_vals(labels, n_trn)"
   ]
  },
  {
   "cell_type": "code",
   "execution_count": 114,
   "id": "electoral-toilet",
   "metadata": {},
   "outputs": [
    {
     "data": {
      "text/plain": [
       "(10574, 2000, 10574, 2000)"
      ]
     },
     "execution_count": 114,
     "metadata": {},
     "output_type": "execute_result"
    }
   ],
   "source": [
    "len(X_train), len(X_valid), len(y_train), len(y_valid)"
   ]
  },
  {
   "cell_type": "markdown",
   "id": "suited-shadow",
   "metadata": {},
   "source": [
    "# Making the Count Vectors"
   ]
  },
  {
   "cell_type": "raw",
   "id": "precise-tracker",
   "metadata": {},
   "source": [
    "To use a Naive Bayes Classifier, we need to transform our lists of words into count vectors. Recall that this changes the sentence \"I love New York, New York\" into a list that contains:\n",
    "\n",
    "Two 1s because the words \"I\" and \"love\" each appear once.\n",
    "Two 2s because the words \"New\" and \"York\" each appear twice.\n",
    "Many 0s because every other word in the training set didn't appear at all."
   ]
  },
  {
   "cell_type": "code",
   "execution_count": 115,
   "id": "bridal-peninsula",
   "metadata": {},
   "outputs": [],
   "source": [
    "from sklearn.feature_extraction.text import CountVectorizer"
   ]
  },
  {
   "cell_type": "code",
   "execution_count": 116,
   "id": "facial-accessory",
   "metadata": {},
   "outputs": [],
   "source": [
    "counter = CountVectorizer()"
   ]
  },
  {
   "cell_type": "code",
   "execution_count": 117,
   "id": "electric-calgary",
   "metadata": {},
   "outputs": [
    {
     "data": {
      "text/plain": [
       "CountVectorizer()"
      ]
     },
     "execution_count": 117,
     "metadata": {},
     "output_type": "execute_result"
    }
   ],
   "source": [
    "counter.fit(X_train)"
   ]
  },
  {
   "cell_type": "code",
   "execution_count": 118,
   "id": "provincial-director",
   "metadata": {},
   "outputs": [],
   "source": [
    "X_train_count = counter.transform(X_train)"
   ]
  },
  {
   "cell_type": "code",
   "execution_count": 119,
   "id": "amateur-female",
   "metadata": {},
   "outputs": [],
   "source": [
    "X_valid_count = counter.transform(X_valid)"
   ]
  },
  {
   "cell_type": "markdown",
   "id": "fluid-presence",
   "metadata": {},
   "source": [
    "# Train and Test the Naive Bayes Classifier"
   ]
  },
  {
   "cell_type": "code",
   "execution_count": 120,
   "id": "beneficial-grain",
   "metadata": {},
   "outputs": [],
   "source": [
    "from sklearn.naive_bayes import MultinomialNB"
   ]
  },
  {
   "cell_type": "code",
   "execution_count": 121,
   "id": "informative-calgary",
   "metadata": {},
   "outputs": [],
   "source": [
    "classifier = MultinomialNB()"
   ]
  },
  {
   "cell_type": "code",
   "execution_count": 122,
   "id": "signal-coordinate",
   "metadata": {},
   "outputs": [
    {
     "data": {
      "text/plain": [
       "MultinomialNB()"
      ]
     },
     "execution_count": 122,
     "metadata": {},
     "output_type": "execute_result"
    }
   ],
   "source": [
    "classifier.fit(X_train_count, y_train)"
   ]
  },
  {
   "cell_type": "code",
   "execution_count": 123,
   "id": "casual-formula",
   "metadata": {},
   "outputs": [],
   "source": [
    "y_predicted = classifier.predict(X_valid_count)"
   ]
  },
  {
   "cell_type": "code",
   "execution_count": 124,
   "id": "engaged-whale",
   "metadata": {},
   "outputs": [
    {
     "data": {
      "text/plain": [
       "0.7065"
      ]
     },
     "execution_count": 124,
     "metadata": {},
     "output_type": "execute_result"
    }
   ],
   "source": [
    "classifier.score(X_valid_count, y_valid)"
   ]
  },
  {
   "cell_type": "markdown",
   "id": "covered-portland",
   "metadata": {},
   "source": [
    "# Evaluating Your Model"
   ]
  },
  {
   "cell_type": "raw",
   "id": "broadband-conviction",
   "metadata": {},
   "source": [
    "Now that the classifier has made its predictions, let's see how well it did. Let's look at two different ways to do this. First, call scikit-learn's accuracy_score function. This function should take two parameters — the test_labels and your predictions. Print the results. This prints the percentage of tweets in the test set that the classifier correctly classified."
   ]
  },
  {
   "cell_type": "code",
   "execution_count": 125,
   "id": "heated-certification",
   "metadata": {},
   "outputs": [],
   "source": [
    "import numpy as np\n",
    "from sklearn.metrics import accuracy_score"
   ]
  },
  {
   "cell_type": "code",
   "execution_count": 126,
   "id": "focal-measurement",
   "metadata": {},
   "outputs": [],
   "source": [
    "y_true = np.array(y_valid)"
   ]
  },
  {
   "cell_type": "code",
   "execution_count": 127,
   "id": "theoretical-veteran",
   "metadata": {},
   "outputs": [
    {
     "data": {
      "text/plain": [
       "0.7065"
      ]
     },
     "execution_count": 127,
     "metadata": {},
     "output_type": "execute_result"
    }
   ],
   "source": [
    "accuracy_score(y_true, y_predicted)"
   ]
  },
  {
   "cell_type": "raw",
   "id": "latin-whole",
   "metadata": {},
   "source": [
    "For our project using tweets, there were three classes — 0 for New York, 1 for Paris, and 2 for London. You can see the confustion matrix by printing the result of the confusion_matrix function using test_labels and predictions as parameters."
   ]
  },
  {
   "cell_type": "code",
   "execution_count": 128,
   "id": "characteristic-blind",
   "metadata": {},
   "outputs": [],
   "source": [
    "from sklearn.metrics import confusion_matrix"
   ]
  },
  {
   "cell_type": "code",
   "execution_count": 132,
   "id": "brazilian-graphics",
   "metadata": {},
   "outputs": [
    {
     "data": {
      "text/plain": [
       "array([[441,  16, 295],\n",
       "       [ 33, 302,  74],\n",
       "       [143,  26, 670]])"
      ]
     },
     "execution_count": 132,
     "metadata": {},
     "output_type": "execute_result"
    }
   ],
   "source": [
    "confusion_matrix(y_true, y_predicted)"
   ]
  },
  {
   "cell_type": "code",
   "execution_count": 134,
   "id": "generous-editing",
   "metadata": {},
   "outputs": [
    {
     "name": "stdout",
     "output_type": "stream",
     "text": [
      "[0]\n"
     ]
    }
   ],
   "source": [
    "tweet = \"The statue of liberty is beautiful\"\n",
    "tweet_counts = counter.transform([tweet])\n",
    "print(classifier.predict(tweet_counts))"
   ]
  },
  {
   "cell_type": "code",
   "execution_count": null,
   "id": "racial-thing",
   "metadata": {},
   "outputs": [],
   "source": []
  }
 ],
 "metadata": {
  "kernelspec": {
   "display_name": "Python 3",
   "language": "python",
   "name": "python3"
  },
  "language_info": {
   "codemirror_mode": {
    "name": "ipython",
    "version": 3
   },
   "file_extension": ".py",
   "mimetype": "text/x-python",
   "name": "python",
   "nbconvert_exporter": "python",
   "pygments_lexer": "ipython3",
   "version": "3.6.9"
  }
 },
 "nbformat": 4,
 "nbformat_minor": 5
}
